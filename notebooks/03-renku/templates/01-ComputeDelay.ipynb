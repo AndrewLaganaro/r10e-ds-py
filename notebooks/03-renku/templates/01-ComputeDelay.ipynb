{
 "cells": [
  {
   "cell_type": "code",
   "execution_count": 44,
   "metadata": {},
   "outputs": [],
   "source": [
    "import numpy as np\n",
    "import scipy\n",
    "import pandas as pd\n",
    "import matplotlib as mpl\n",
    "import matplotlib.pyplot as plt\n",
    "import seaborn as sns\n",
    "\n",
    "%matplotlib inline\n",
    "\n",
    "sns.set()"
   ]
  },
  {
   "cell_type": "markdown",
   "metadata": {},
   "source": [
    "# Set Papermill Variables"
   ]
  },
  {
   "cell_type": "code",
   "execution_count": 45,
   "metadata": {
    "tags": [
     "parameters"
    ]
   },
   "outputs": [],
   "source": [
    "input_path = \"../data/output/2019-01-flights-cleaned.csv\"\n",
    "output_path = \"../data/output/2019-01-flights-delays.csv\""
   ]
  },
  {
   "cell_type": "markdown",
   "metadata": {},
   "source": [
    "# Read the data"
   ]
  },
  {
   "cell_type": "code",
   "execution_count": 50,
   "metadata": {},
   "outputs": [
    {
     "data": {
      "text/html": [
       "<div>\n",
       "<style scoped>\n",
       "    .dataframe tbody tr th:only-of-type {\n",
       "        vertical-align: middle;\n",
       "    }\n",
       "\n",
       "    .dataframe tbody tr th {\n",
       "        vertical-align: top;\n",
       "    }\n",
       "\n",
       "    .dataframe thead th {\n",
       "        text-align: right;\n",
       "    }\n",
       "</style>\n",
       "<table border=\"1\" class=\"dataframe\">\n",
       "  <thead>\n",
       "    <tr style=\"text-align: right;\">\n",
       "      <th></th>\n",
       "      <th>Unnamed: 0</th>\n",
       "      <th>FL_DATE</th>\n",
       "      <th>CRS_ARR_TIME</th>\n",
       "      <th>ARR_TIME</th>\n",
       "    </tr>\n",
       "  </thead>\n",
       "  <tbody>\n",
       "    <tr>\n",
       "      <th>0</th>\n",
       "      <td>238</td>\n",
       "      <td>2019-01-01</td>\n",
       "      <td>1250</td>\n",
       "      <td>1301</td>\n",
       "    </tr>\n",
       "    <tr>\n",
       "      <th>1</th>\n",
       "      <td>412</td>\n",
       "      <td>2019-01-01</td>\n",
       "      <td>1854</td>\n",
       "      <td>1854</td>\n",
       "    </tr>\n",
       "    <tr>\n",
       "      <th>2</th>\n",
       "      <td>481</td>\n",
       "      <td>2019-01-01</td>\n",
       "      <td>1503</td>\n",
       "      <td>1457</td>\n",
       "    </tr>\n",
       "    <tr>\n",
       "      <th>3</th>\n",
       "      <td>532</td>\n",
       "      <td>2019-01-01</td>\n",
       "      <td>2259</td>\n",
       "      <td>2349</td>\n",
       "    </tr>\n",
       "    <tr>\n",
       "      <th>4</th>\n",
       "      <td>657</td>\n",
       "      <td>2019-01-01</td>\n",
       "      <td>2015</td>\n",
       "      <td>2036</td>\n",
       "    </tr>\n",
       "  </tbody>\n",
       "</table>\n",
       "</div>"
      ],
      "text/plain": [
       "   Unnamed: 0    FL_DATE  CRS_ARR_TIME  ARR_TIME\n",
       "0         238 2019-01-01          1250      1301\n",
       "1         412 2019-01-01          1854      1854\n",
       "2         481 2019-01-01          1503      1457\n",
       "3         532 2019-01-01          2259      2349\n",
       "4         657 2019-01-01          2015      2036"
      ]
     },
     "execution_count": 50,
     "metadata": {},
     "output_type": "execute_result"
    }
   ],
   "source": [
    "df = pd.read_csv(input_path)\n",
    "df['FL_DATE'] = pd.to_datetime(df['FL_DATE'])\n",
    "df.head()"
   ]
  },
  {
   "cell_type": "markdown",
   "metadata": {},
   "source": [
    "# Compute Delay"
   ]
  },
  {
   "cell_type": "markdown",
   "metadata": {},
   "source": [
    "### Attempt 1: Convert (int) time to a time object and compute delay from that"
   ]
  },
  {
   "cell_type": "code",
   "execution_count": 48,
   "metadata": {},
   "outputs": [],
   "source": [
    "import datetime\n",
    "def int_to_time(inttime):\n",
    "    hours = inttime // 100 % 24\n",
    "    mins = inttime % 100\n",
    "    return datetime.time(hours, mins)\n",
    "\n",
    "\n",
    "def row_to_datetime(col):\n",
    "    def rtdt(row):\n",
    "        row_date = row['FL_DATE']\n",
    "        timeval = row[col]\n",
    "        return datetime.datetime(row_date.year, row_date.month, row_date.day, \n",
    "                          timeval.hour, timeval.minute)\n",
    "    return rtdt\n",
    "\n",
    "df['CRS_ARR_TIME'] = df['CRS_ARR_TIME'].apply(int_to_time)\n",
    "df['ARR_TIME'] = df['ARR_TIME'].apply(int_to_time)\n",
    "\n",
    "arr_dt = df.apply(row_to_datetime('ARR_TIME'), 1)\n",
    "crs_arr_dt = df.apply(row_to_datetime('CRS_ARR_TIME'), 1)\n",
    "df['delay_minutes'] = (arr_dt - crs_arr_dt) / np.timedelta64(1, 'm')"
   ]
  },
  {
   "cell_type": "markdown",
   "metadata": {},
   "source": [
    "### Attempt 2: Convert to timedelta\n",
    "\n",
    "Instead of converting the times to datetime.time objects, let us convert them to timedelta objects to make them offsets from midnight on the takeoff date."
   ]
  },
  {
   "cell_type": "code",
   "execution_count": 51,
   "metadata": {},
   "outputs": [],
   "source": [
    "# import datetime\n",
    "# def int_to_timedelta(inttime):\n",
    "#     hours = inttime // 100 * 60\n",
    "#     mins = inttime % 100\n",
    "#     return pd.to_timedelta(hours + mins, unit='m')\n",
    "# df['CRS_ARR_TIME'] = int_to_timedelta(df['CRS_ARR_TIME'])\n",
    "# df['ARR_TIME'] = int_to_timedelta(df['ARR_TIME'])\n",
    "# df['delay_minutes'] = ((df['ARR_TIME'] - df['CRS_ARR_TIME']) / np.timedelta64(1, 'm'))"
   ]
  },
  {
   "cell_type": "markdown",
   "metadata": {},
   "source": [
    "### Attempt 3: Use the delay from BTS"
   ]
  },
  {
   "cell_type": "code",
   "execution_count": null,
   "metadata": {},
   "outputs": [],
   "source": [
    "# df['delay_minutes'] = df['ARR_DELAY']"
   ]
  },
  {
   "cell_type": "code",
   "execution_count": 49,
   "metadata": {},
   "outputs": [
    {
     "data": {
      "text/html": [
       "<div>\n",
       "<style scoped>\n",
       "    .dataframe tbody tr th:only-of-type {\n",
       "        vertical-align: middle;\n",
       "    }\n",
       "\n",
       "    .dataframe tbody tr th {\n",
       "        vertical-align: top;\n",
       "    }\n",
       "\n",
       "    .dataframe thead th {\n",
       "        text-align: right;\n",
       "    }\n",
       "</style>\n",
       "<table border=\"1\" class=\"dataframe\">\n",
       "  <thead>\n",
       "    <tr style=\"text-align: right;\">\n",
       "      <th></th>\n",
       "      <th>Unnamed: 0</th>\n",
       "      <th>FL_DATE</th>\n",
       "      <th>CRS_ARR_TIME</th>\n",
       "      <th>ARR_TIME</th>\n",
       "      <th>delay_minutes</th>\n",
       "    </tr>\n",
       "  </thead>\n",
       "  <tbody>\n",
       "    <tr>\n",
       "      <th>0</th>\n",
       "      <td>238</td>\n",
       "      <td>2019-01-01</td>\n",
       "      <td>12:50:00</td>\n",
       "      <td>13:01:00</td>\n",
       "      <td>11.0</td>\n",
       "    </tr>\n",
       "    <tr>\n",
       "      <th>1</th>\n",
       "      <td>412</td>\n",
       "      <td>2019-01-01</td>\n",
       "      <td>18:54:00</td>\n",
       "      <td>18:54:00</td>\n",
       "      <td>0.0</td>\n",
       "    </tr>\n",
       "    <tr>\n",
       "      <th>2</th>\n",
       "      <td>481</td>\n",
       "      <td>2019-01-01</td>\n",
       "      <td>15:03:00</td>\n",
       "      <td>14:57:00</td>\n",
       "      <td>-6.0</td>\n",
       "    </tr>\n",
       "    <tr>\n",
       "      <th>3</th>\n",
       "      <td>532</td>\n",
       "      <td>2019-01-01</td>\n",
       "      <td>22:59:00</td>\n",
       "      <td>23:49:00</td>\n",
       "      <td>50.0</td>\n",
       "    </tr>\n",
       "    <tr>\n",
       "      <th>4</th>\n",
       "      <td>657</td>\n",
       "      <td>2019-01-01</td>\n",
       "      <td>20:15:00</td>\n",
       "      <td>20:36:00</td>\n",
       "      <td>21.0</td>\n",
       "    </tr>\n",
       "  </tbody>\n",
       "</table>\n",
       "</div>"
      ],
      "text/plain": [
       "   Unnamed: 0    FL_DATE CRS_ARR_TIME  ARR_TIME  delay_minutes\n",
       "0         238 2019-01-01     12:50:00  13:01:00           11.0\n",
       "1         412 2019-01-01     18:54:00  18:54:00            0.0\n",
       "2         481 2019-01-01     15:03:00  14:57:00           -6.0\n",
       "3         532 2019-01-01     22:59:00  23:49:00           50.0\n",
       "4         657 2019-01-01     20:15:00  20:36:00           21.0"
      ]
     },
     "execution_count": 49,
     "metadata": {},
     "output_type": "execute_result"
    }
   ],
   "source": [
    "df.head()"
   ]
  },
  {
   "cell_type": "markdown",
   "metadata": {},
   "source": [
    "# Let's save the result"
   ]
  },
  {
   "cell_type": "code",
   "execution_count": null,
   "metadata": {},
   "outputs": [],
   "source": [
    "analysis_columns = ['FL_DATE', 'delay_minutes']\n",
    "df[analysis_columns].to_csv(output_path)"
   ]
  }
 ],
 "metadata": {
  "kernelspec": {
   "display_name": "Python 3",
   "language": "python",
   "name": "python3"
  },
  "language_info": {
   "codemirror_mode": {
    "name": "ipython",
    "version": 3
   },
   "file_extension": ".py",
   "mimetype": "text/x-python",
   "name": "python",
   "nbconvert_exporter": "python",
   "pygments_lexer": "ipython3",
   "version": "3.7.3"
  }
 },
 "nbformat": 4,
 "nbformat_minor": 2
}
