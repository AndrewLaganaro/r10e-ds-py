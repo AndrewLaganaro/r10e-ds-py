{
 "cells": [
  {
   "cell_type": "markdown",
   "metadata": {},
   "source": [
    "### Pre-Setup\n",
    "\n",
    "Make sure your git environment is correctly configured with a username and email."
   ]
  },
  {
   "cell_type": "code",
   "execution_count": null,
   "metadata": {},
   "outputs": [],
   "source": [
    "!git config --global user.name\n",
    "!git config --global user.email"
   ]
  },
  {
   "cell_type": "code",
   "execution_count": null,
   "metadata": {},
   "outputs": [],
   "source": [
    "# If the above does not print anything, set a username and email:\n",
    "#!git config --global --add user.name \"John Doe\"\n",
    "#!git config --global --add user.email \"john.doe@example.com\""
   ]
  },
  {
   "cell_type": "code",
   "execution_count": null,
   "metadata": {},
   "outputs": [],
   "source": [
    "from IPython.display import SVG"
   ]
  },
  {
   "cell_type": "markdown",
   "metadata": {},
   "source": [
    "# Starting a Renku project"
   ]
  },
  {
   "cell_type": "markdown",
   "metadata": {},
   "source": [
    "## Outline\n",
    "\n",
    "<table class=\"table table-striped\" style=\"font-size: 18px; margin: 10px;\">\n",
    "    <thead>\n",
    "        <tr>\n",
    "            <td>Renku</td>\n",
    "            <td>Pandas</td>\n",
    "        </tr>\n",
    "    <thead>\n",
    "    <tbody>\n",
    "        <tr>\n",
    "            <td style=\"font-weight: bold\">Create repository</td>\n",
    "            <td></td>\n",
    "        </tr>\n",
    "        <tr>\n",
    "            <td>Declare environment</td>\n",
    "            <td></td>\n",
    "        </tr>\n",
    "        <tr>\n",
    "            <td>Import data</td>\n",
    "            <td></td>\n",
    "        </tr>\n",
    "        <tr>\n",
    "            <td></td>\n",
    "            <td>Inspect and preprocess data</td>\n",
    "        </tr>\n",
    "        <tr>\n",
    "            <td></td>\n",
    "            <td>Verify preprocessing</td>\n",
    "        </tr>        \n",
    "     </tbody>\n",
    "</table>"
   ]
  },
  {
   "cell_type": "markdown",
   "metadata": {},
   "source": [
    "# Creating a repository\n",
    "\n",
    "The first thing to do when starting a project is to initialize a repository. Let's call ours `renku-tutorial-flights`"
   ]
  },
  {
   "cell_type": "code",
   "execution_count": null,
   "metadata": {},
   "outputs": [],
   "source": [
    "!renku init renku-tutorial-flights"
   ]
  },
  {
   "cell_type": "markdown",
   "metadata": {},
   "source": [
    "Let is take a look at what's inside the renku repository"
   ]
  },
  {
   "cell_type": "code",
   "execution_count": null,
   "metadata": {},
   "outputs": [],
   "source": [
    "%ls -l renku-tutorial-flights"
   ]
  },
  {
   "cell_type": "markdown",
   "metadata": {},
   "source": [
    "Renku creates a git repository and generates two files: \n",
    "- `Dockerfile` \n",
    "- `requirements.txt`\n",
    "\n",
    "The initial `requirements.txt` file is empty and there as a shell. In a minute, we will create fill it out. The Dockerfile is there to allow specifiying external dependencies if you have any (in this project, we don't). It's used to construct an environment on Renkulab."
   ]
  },
  {
   "cell_type": "markdown",
   "metadata": {},
   "source": [
    "## Housekeeping\n",
    "\n",
    "For the rest of the tutorial, we will work in the renku repository."
   ]
  },
  {
   "cell_type": "code",
   "execution_count": 2,
   "metadata": {},
   "outputs": [
    {
     "name": "stdout",
     "output_type": "stream",
     "text": [
      "/Users/ciyer/Documents/sdsc/repos/r10e-ds-py/notebooks/03-renku/renku-tutorial-flights\n"
     ]
    }
   ],
   "source": [
    "%cd renku-tutorial-flights"
   ]
  },
  {
   "cell_type": "markdown",
   "metadata": {},
   "source": [
    "We also set up some git configuration for this tutorial."
   ]
  },
  {
   "cell_type": "code",
   "execution_count": null,
   "metadata": {},
   "outputs": [],
   "source": [
    "# Workaround for https://github.com/SwissDataScienceCenter/renku-python/issues/579 to diff text in lfs\n",
    "!git config diff.lfs.textconv cat"
   ]
  },
  {
   "cell_type": "markdown",
   "metadata": {},
   "source": [
    "## Declaring the environment\n",
    "\n",
    "<table class=\"table table-striped\" style=\"font-size: 18px; margin: 10px;\">\n",
    "    <thead>\n",
    "        <tr>\n",
    "            <td>Renku</td>\n",
    "            <td>Pandas</td>\n",
    "        </tr>\n",
    "    <thead>\n",
    "    <tbody>\n",
    "        <tr>\n",
    "            <td>Create repository &#10004;</td>\n",
    "            <td></td>\n",
    "        </tr>\n",
    "        <tr>\n",
    "            <td style=\"font-weight: bold\">Declare environment</td>\n",
    "            <td></td>\n",
    "        </tr>\n",
    "        <tr>\n",
    "            <td>Import data</td>\n",
    "            <td></td>\n",
    "        </tr>\n",
    "        <tr>\n",
    "            <td></td>\n",
    "            <td>Inspect and preprocess data</td>\n",
    "        </tr>\n",
    "        <tr>\n",
    "            <td></td>\n",
    "            <td>Verify preprocessing</td>\n",
    "        </tr>        \n",
    "     </tbody>\n",
    "</table>\n",
    "\n",
    "To make the project reproducible, we need to declare the environment it runs in. We will be working with pandas, numpy, scipy, matplotlib, and seaborn, so let us create a requirements.txt file that makes this explicit."
   ]
  },
  {
   "cell_type": "code",
   "execution_count": null,
   "metadata": {},
   "outputs": [],
   "source": [
    "# Normally, you would write a requirements file, but we have one ready here\n",
    "%cp ../templates/requirements.txt ./"
   ]
  },
  {
   "cell_type": "markdown",
   "metadata": {},
   "source": [
    "As we work, we to track the process. Some of this information is kept in git. For example, the fact that we have filled out the requirements.txt file."
   ]
  },
  {
   "cell_type": "code",
   "execution_count": null,
   "metadata": {},
   "outputs": [],
   "source": [
    "!git status"
   ]
  },
  {
   "cell_type": "markdown",
   "metadata": {},
   "source": [
    "Let us tell git about the requirements.txt file."
   ]
  },
  {
   "cell_type": "code",
   "execution_count": null,
   "metadata": {},
   "outputs": [],
   "source": [
    "!git add requirements.txt\n",
    "!git commit -m\"Declare the python environment for the project.\""
   ]
  },
  {
   "cell_type": "markdown",
   "metadata": {},
   "source": [
    "## Importing data\n",
    "\n",
    "\n",
    "<table class=\"table table-striped\" style=\"font-size: 18px; margin: 10px;\">\n",
    "    <thead>\n",
    "        <tr>\n",
    "            <td>Renku</td>\n",
    "            <td>Pandas</td>\n",
    "        </tr>\n",
    "    <thead>\n",
    "    <tbody>\n",
    "        <tr>\n",
    "            <td>Create repository &#10004;</td>\n",
    "            <td></td>\n",
    "        </tr>\n",
    "        <tr>\n",
    "            <td>Declare environment &#10004;</td>\n",
    "            <td></td>\n",
    "        </tr>\n",
    "        <tr>\n",
    "            <td style=\"font-weight: bold\">Import data</td>\n",
    "            <td></td>\n",
    "        </tr>\n",
    "        <tr>\n",
    "            <td></td>\n",
    "            <td>Inspect and preprocess data</td>\n",
    "        </tr>\n",
    "        <tr>\n",
    "            <td></td>\n",
    "            <td>Verify preprocessing</td>\n",
    "        </tr>        \n",
    "     </tbody>\n",
    "</table>"
   ]
  },
  {
   "cell_type": "markdown",
   "metadata": {},
   "source": [
    "### Create a dataset\n",
    "\n",
    "Renku uses the concept of a dataset to group data together. We will create a dataset called `flights` for our flights data."
   ]
  },
  {
   "cell_type": "code",
   "execution_count": null,
   "metadata": {},
   "outputs": [],
   "source": [
    "!renku dataset create flights"
   ]
  },
  {
   "cell_type": "markdown",
   "metadata": {},
   "source": [
    "### Add data to the data set\n",
    "\n",
    "And we will get some data and add it to the flights dataset. The data is available under this URL:\n",
    "\n",
    "`https://renkulab.io/gitlab/cramakri/renku-tutorial-flights-data-raw/raw/master/data/v1/2019-01-flights.csv.zip`\n"
   ]
  },
  {
   "cell_type": "code",
   "execution_count": null,
   "metadata": {},
   "outputs": [],
   "source": [
    "!renku dataset add flights https://renkulab.io/gitlab/cramakri/renku-tutorial-flights-data-raw/raw/master/data/v1/2019-01-flights.csv.zip"
   ]
  },
  {
   "cell_type": "markdown",
   "metadata": {},
   "source": [
    "This copies the data into the folder for the flights dataset. Let's see what is in there."
   ]
  },
  {
   "cell_type": "code",
   "execution_count": null,
   "metadata": {},
   "outputs": [],
   "source": [
    "!renku dataset ls-files flights"
   ]
  },
  {
   "cell_type": "markdown",
   "metadata": {},
   "source": [
    "# Inspect and preprocess data\n",
    "\n",
    "<table class=\"table table-striped\" style=\"font-size: 18px; margin: 10px;\">\n",
    "    <thead>\n",
    "        <tr>\n",
    "            <td>Renku</td>\n",
    "            <td>Pandas</td>\n",
    "        </tr>\n",
    "    <thead>\n",
    "    <tbody>\n",
    "        <tr>\n",
    "            <td>Create repository &#10004;</td>\n",
    "            <td></td>\n",
    "        </tr>\n",
    "        <tr>\n",
    "            <td>Declare environment &#10004;</td>\n",
    "            <td></td>\n",
    "        </tr>\n",
    "        <tr>\n",
    "            <td>Import data &#10004;</td>\n",
    "            <td></td>\n",
    "        </tr>\n",
    "        <tr>\n",
    "            <td></td>\n",
    "            <td style=\"font-weight: bold\">Inspect and preprocess data</td>\n",
    "        </tr>\n",
    "        <tr>\n",
    "            <td></td>\n",
    "            <td>Verify preprocessing</td>\n",
    "        </tr>        \n",
    "     </tbody>\n",
    "</table>"
   ]
  },
  {
   "cell_type": "markdown",
   "metadata": {},
   "source": [
    "## Build the initial pipeline"
   ]
  },
  {
   "cell_type": "markdown",
   "metadata": {},
   "source": [
    "There are notebooks prepared in the templates folder. We are going to use a these to build a pipeline to do our preprocessing.\n",
    "\n",
    "The notebooks have been parameterized to take a file as input and write the result of the step to an output file."
   ]
  },
  {
   "cell_type": "code",
   "execution_count": 18,
   "metadata": {},
   "outputs": [
    {
     "name": "stdout",
     "output_type": "stream",
     "text": [
      "mkdir: notebooks: File exists\n"
     ]
    }
   ],
   "source": [
    "%mkdir notebooks\n",
    "%cp ../templates/00-CleanData.ipynb ./notebooks/\n",
    "%cp ../templates/01-ComputeDelay-03.ipynb ./notebooks/01-ComputeDelay.ipynb\n",
    "%cp ../templates/02-PlotDelayDistribution.ipynb ./notebooks/"
   ]
  },
  {
   "cell_type": "code",
   "execution_count": 19,
   "metadata": {},
   "outputs": [
    {
     "name": "stdout",
     "output_type": "stream",
     "text": [
      "On branch master\n",
      "Changes not staged for commit:\n",
      "  (use \"git add <file>...\" to update what will be committed)\n",
      "  (use \"git checkout -- <file>...\" to discard changes in working directory)\n",
      "\n",
      "\t\u001b[31mmodified:   notebooks/00-CleanData.ipynb\u001b[m\n",
      "\t\u001b[31mmodified:   notebooks/01-ComputeDelay.ipynb\u001b[m\n",
      "\t\u001b[31mmodified:   notebooks/01-ComputeDelay.ran.ipynb\u001b[m\n",
      "\n",
      "no changes added to commit (use \"git add\" and/or \"git commit -a\")\n"
     ]
    }
   ],
   "source": [
    "!git status"
   ]
  },
  {
   "cell_type": "code",
   "execution_count": 20,
   "metadata": {},
   "outputs": [
    {
     "name": "stdout",
     "output_type": "stream",
     "text": [
      "Traceback (most recent call last):\n",
      "  File \"/Users/ciyer/Applications/miniconda3/envs/r10eds/lib/python3.7/site-packages/click/types.py\", line 530, in convert\n",
      "    st = os.stat(rv)\n",
      "FileNotFoundError: [Errno 2] No such file or directory: 'notebooks/00-CleanData.ipynb\\nnotebooks/01-ComputeDelay.ipynb'\n",
      "\n",
      "During handling of the above exception, another exception occurred:\n",
      "\n",
      "Traceback (most recent call last):\n",
      "  File \"/Users/ciyer/Applications/miniconda3/envs/r10eds/lib/python3.7/site-packages/click/core.py\", line 717, in main\n",
      "    rv = self.invoke(ctx)\n",
      "  File \"/Users/ciyer/Applications/miniconda3/envs/r10eds/lib/python3.7/site-packages/click/core.py\", line 1137, in invoke\n",
      "    return _process_result(sub_ctx.command.invoke(sub_ctx))\n",
      "  File \"/Users/ciyer/Applications/miniconda3/envs/r10eds/lib/python3.7/site-packages/click/core.py\", line 1135, in invoke\n",
      "    sub_ctx = cmd.make_context(cmd_name, args, parent=ctx)\n",
      "  File \"/Users/ciyer/Applications/miniconda3/envs/r10eds/lib/python3.7/site-packages/click/core.py\", line 641, in make_context\n",
      "    self.parse_args(ctx, args)\n",
      "  File \"/Users/ciyer/Applications/miniconda3/envs/r10eds/lib/python3.7/site-packages/click/core.py\", line 940, in parse_args\n",
      "    value, args = param.handle_parse_result(ctx, opts, args)\n",
      "  File \"/Users/ciyer/Applications/miniconda3/envs/r10eds/lib/python3.7/site-packages/click/core.py\", line 1469, in handle_parse_result\n",
      "    value = self.full_process_value(ctx, value)\n",
      "  File \"/Users/ciyer/Applications/miniconda3/envs/r10eds/lib/python3.7/site-packages/click/core.py\", line 1438, in full_process_value\n",
      "    value = self.process_value(ctx, value)\n",
      "  File \"/Users/ciyer/Applications/miniconda3/envs/r10eds/lib/python3.7/site-packages/click/core.py\", line 1428, in process_value\n",
      "    return self.type_cast_value(ctx, value)\n",
      "  File \"/Users/ciyer/Applications/miniconda3/envs/r10eds/lib/python3.7/site-packages/click/core.py\", line 1417, in type_cast_value\n",
      "    return _convert(value, (self.nargs != 1) + bool(self.multiple))\n",
      "  File \"/Users/ciyer/Applications/miniconda3/envs/r10eds/lib/python3.7/site-packages/click/core.py\", line 1416, in _convert\n",
      "    return tuple(_convert(x, level - 1) for x in value or ())\n",
      "  File \"/Users/ciyer/Applications/miniconda3/envs/r10eds/lib/python3.7/site-packages/click/core.py\", line 1416, in <genexpr>\n",
      "    return tuple(_convert(x, level - 1) for x in value or ())\n",
      "  File \"/Users/ciyer/Applications/miniconda3/envs/r10eds/lib/python3.7/site-packages/click/core.py\", line 1415, in _convert\n",
      "    return self.type(value, self, ctx)\n",
      "  File \"/Users/ciyer/Applications/miniconda3/envs/r10eds/lib/python3.7/site-packages/click/types.py\", line 39, in __call__\n",
      "    return self.convert(value, param, ctx)\n",
      "  File \"/Users/ciyer/Applications/miniconda3/envs/r10eds/lib/python3.7/site-packages/click/types.py\", line 537, in convert\n",
      "    ), param, ctx)\n",
      "  File \"/Users/ciyer/Applications/miniconda3/envs/r10eds/lib/python3.7/site-packages/click/types.py\", line 69, in fail\n",
      "    raise BadParameter(message, ctx=ctx, param=param)\n",
      "click.exceptions.BadParameter: Path \"notebooks/00-CleanData.ipynb\n",
      "notebooks/01-ComputeDelay.ipynb\" does not exist.\n",
      "\n",
      "During handling of the above exception, another exception occurred:\n",
      "\n",
      "Traceback (most recent call last):\n",
      "  File \"/Users/ciyer/Applications/miniconda3/envs/r10eds/lib/python3.7/site-packages/urllib3/connection.py\", line 160, in _new_conn\n",
      "    (self._dns_host, self.port), self.timeout, **extra_kw)\n",
      "  File \"/Users/ciyer/Applications/miniconda3/envs/r10eds/lib/python3.7/site-packages/urllib3/util/connection.py\", line 57, in create_connection\n",
      "    for res in socket.getaddrinfo(host, port, family, socket.SOCK_STREAM):\n",
      "  File \"/Users/ciyer/Applications/miniconda3/envs/r10eds/lib/python3.7/socket.py\", line 748, in getaddrinfo\n",
      "    for res in _socket.getaddrinfo(host, port, family, type, proto, flags):\n",
      "socket.gaierror: [Errno 8] nodename nor servname provided, or not known\n",
      "\n",
      "During handling of the above exception, another exception occurred:\n",
      "\n",
      "Traceback (most recent call last):\n",
      "  File \"/Users/ciyer/Applications/miniconda3/envs/r10eds/lib/python3.7/site-packages/urllib3/connectionpool.py\", line 603, in urlopen\n",
      "    chunked=chunked)\n",
      "  File \"/Users/ciyer/Applications/miniconda3/envs/r10eds/lib/python3.7/site-packages/urllib3/connectionpool.py\", line 344, in _make_request\n",
      "    self._validate_conn(conn)\n",
      "  File \"/Users/ciyer/Applications/miniconda3/envs/r10eds/lib/python3.7/site-packages/urllib3/connectionpool.py\", line 843, in _validate_conn\n",
      "    conn.connect()\n",
      "  File \"/Users/ciyer/Applications/miniconda3/envs/r10eds/lib/python3.7/site-packages/urllib3/connection.py\", line 305, in connect\n",
      "    conn = self._new_conn()\n",
      "  File \"/Users/ciyer/Applications/miniconda3/envs/r10eds/lib/python3.7/site-packages/urllib3/connection.py\", line 169, in _new_conn\n",
      "    self, \"Failed to establish a new connection: %s\" % e)\n",
      "urllib3.exceptions.NewConnectionError: <urllib3.connection.VerifiedHTTPSConnection object at 0x10ec1e668>: Failed to establish a new connection: [Errno 8] nodename nor servname provided, or not known\n",
      "\n",
      "During handling of the above exception, another exception occurred:\n",
      "\n",
      "Traceback (most recent call last):\n",
      "  File \"/Users/ciyer/Applications/miniconda3/envs/r10eds/lib/python3.7/site-packages/requests/adapters.py\", line 449, in send\n",
      "    timeout=timeout\n",
      "  File \"/Users/ciyer/Applications/miniconda3/envs/r10eds/lib/python3.7/site-packages/urllib3/connectionpool.py\", line 641, in urlopen\n",
      "    _stacktrace=sys.exc_info()[2])\n",
      "  File \"/Users/ciyer/Applications/miniconda3/envs/r10eds/lib/python3.7/site-packages/urllib3/util/retry.py\", line 399, in increment\n",
      "    raise MaxRetryError(_pool, url, error or ResponseError(cause))\n",
      "urllib3.exceptions.MaxRetryError: HTTPSConnectionPool(host='pypi.org', port=443): Max retries exceeded with url: /pypi/renku/json (Caused by NewConnectionError('<urllib3.connection.VerifiedHTTPSConnection object at 0x10ec1e668>: Failed to establish a new connection: [Errno 8] nodename nor servname provided, or not known'))\n",
      "\n",
      "During handling of the above exception, another exception occurred:\n",
      "\n",
      "Traceback (most recent call last):\n",
      "  File \"/Users/ciyer/Applications/miniconda3/envs/r10eds/bin/renku\", line 10, in <module>\n",
      "    sys.exit(cli())\n",
      "  File \"/Users/ciyer/Applications/miniconda3/envs/r10eds/lib/python3.7/site-packages/click/core.py\", line 764, in __call__\n",
      "    return self.main(*args, **kwargs)\n",
      "  File \"/Users/ciyer/Applications/miniconda3/envs/r10eds/lib/python3.7/site-packages/renku/cli/_exc.py\", line 100, in main\n",
      "    result = super().main(*args, **kwargs)\n",
      "  File \"/Users/ciyer/Applications/miniconda3/envs/r10eds/lib/python3.7/site-packages/click/core.py\", line 727, in main\n",
      "    ctx.exit()\n",
      "  File \"/Users/ciyer/Applications/miniconda3/envs/r10eds/lib/python3.7/site-packages/click/core.py\", line 351, in __exit__\n",
      "    self.close()\n",
      "  File \"/Users/ciyer/Applications/miniconda3/envs/r10eds/lib/python3.7/site-packages/click/core.py\", line 440, in close\n",
      "    cb()\n",
      "  File \"/Users/ciyer/Applications/miniconda3/envs/r10eds/lib/python3.7/site-packages/renku/cli/_version.py\", line 142, in _check_version\n",
      "    'renku', allow_prereleases=allow_prereleases\n",
      "  File \"/Users/ciyer/Applications/miniconda3/envs/r10eds/lib/python3.7/site-packages/renku/cli/_version.py\", line 43, in find_latest_version\n",
      "    'https://pypi.org/pypi/{name}/json'.format(name=name)\n",
      "  File \"/Users/ciyer/Applications/miniconda3/envs/r10eds/lib/python3.7/site-packages/requests/api.py\", line 75, in get\n",
      "    return request('get', url, params=params, **kwargs)\n",
      "  File \"/Users/ciyer/Applications/miniconda3/envs/r10eds/lib/python3.7/site-packages/requests/api.py\", line 60, in request\n",
      "    return session.request(method=method, url=url, **kwargs)\n",
      "  File \"/Users/ciyer/Applications/miniconda3/envs/r10eds/lib/python3.7/site-packages/requests/sessions.py\", line 533, in request\n",
      "    resp = self.send(prep, **send_kwargs)\n",
      "  File \"/Users/ciyer/Applications/miniconda3/envs/r10eds/lib/python3.7/site-packages/requests/sessions.py\", line 646, in send\n",
      "    r = adapter.send(request, **kwargs)\n",
      "  File \"/Users/ciyer/Applications/miniconda3/envs/r10eds/lib/python3.7/site-packages/requests/adapters.py\", line 516, in send\n",
      "    raise ConnectionError(e, request=request)\n",
      "requests.exceptions.ConnectionError: HTTPSConnectionPool(host='pypi.org', port=443): Max retries exceeded with url: /pypi/renku/json (Caused by NewConnectionError('<urllib3.connection.VerifiedHTTPSConnection object at 0x10ec1e668>: Failed to establish a new connection: [Errno 8] nodename nor servname provided, or not known'))\n",
      "[master 800fe48] Created notebooks that make up the pipeline.\n",
      " 2 files changed, 328 insertions(+), 361 deletions(-)\n",
      " rewrite notebooks/01-ComputeDelay.ipynb (69%)\n"
     ]
    }
   ],
   "source": [
    "!git add notebooks/00-CleanData.ipynb\n",
    "!git add notebooks/01-ComputeDelay.ipynb\n",
    "!git add notebooks/02-PlotDelayDistribution.ipynb\n",
    "!git commit -m\"Created notebooks that make up the pipeline.\""
   ]
  },
  {
   "cell_type": "markdown",
   "metadata": {},
   "source": [
    "Run the CleanData notebook."
   ]
  },
  {
   "cell_type": "code",
   "execution_count": null,
   "metadata": {},
   "outputs": [],
   "source": [
    "%%bash\n",
    "mkdir -p data/output\n",
    "renku run papermill \\\n",
    "  -p input_path data/flights/2019-01-flights.csv.zip \\\n",
    "  -p output_path data/output/2019-01-flights-cleaned.csv \\\n",
    "  notebooks/00-CleanData.ipynb \\\n",
    "  notebooks/00-CleanData.ran.ipynb"
   ]
  },
  {
   "cell_type": "markdown",
   "metadata": {},
   "source": [
    "Run the ComputeDelay notebook"
   ]
  },
  {
   "cell_type": "code",
   "execution_count": 17,
   "metadata": {},
   "outputs": [
    {
     "name": "stderr",
     "output_type": "stream",
     "text": [
      "Input Notebook:  notebooks/01-ComputeDelay.ipynb\n",
      "Output Notebook: notebooks/01-ComputeDelay.ran.ipynb\n",
      " 38%|███▊      | 6/16 [00:02<00:14,  1.44s/it]\n",
      "Traceback (most recent call last):\n",
      "  File \"/Users/ciyer/Applications/miniconda3/envs/r10eds/bin/papermill\", line 10, in <module>\n",
      "    sys.exit(papermill())\n",
      "  File \"/Users/ciyer/Applications/miniconda3/envs/r10eds/lib/python3.7/site-packages/click/core.py\", line 764, in __call__\n",
      "    return self.main(*args, **kwargs)\n",
      "  File \"/Users/ciyer/Applications/miniconda3/envs/r10eds/lib/python3.7/site-packages/click/core.py\", line 717, in main\n",
      "    rv = self.invoke(ctx)\n",
      "  File \"/Users/ciyer/Applications/miniconda3/envs/r10eds/lib/python3.7/site-packages/click/core.py\", line 956, in invoke\n",
      "    return ctx.invoke(self.callback, **ctx.params)\n",
      "  File \"/Users/ciyer/Applications/miniconda3/envs/r10eds/lib/python3.7/site-packages/click/core.py\", line 555, in invoke\n",
      "    return callback(*args, **kwargs)\n",
      "  File \"/Users/ciyer/Applications/miniconda3/envs/r10eds/lib/python3.7/site-packages/papermill/cli.py\", line 165, in papermill\n",
      "    cwd=cwd,\n",
      "  File \"/Users/ciyer/Applications/miniconda3/envs/r10eds/lib/python3.7/site-packages/papermill/execute.py\", line 101, in execute_notebook\n",
      "    raise_for_execution_errors(nb, output_path)\n",
      "  File \"/Users/ciyer/Applications/miniconda3/envs/r10eds/lib/python3.7/site-packages/papermill/execute.py\", line 185, in raise_for_execution_errors\n",
      "    raise error\n",
      "papermill.exceptions.PapermillExecutionError: \n",
      "---------------------------------------------------------------------------\n",
      "Exception encountered at \"In [4]\":\n",
      "---------------------------------------------------------------------------\n",
      "FileNotFoundError                         Traceback (most recent call last)\n",
      "<ipython-input-4-3a5245e42913> in <module>\n",
      "----> 1 df = pd.read_csv(input_path)\n",
      "      2 df['FL_DATE'] = pd.to_datetime(df['FL_DATE'])\n",
      "      3 df.head()\n",
      "\n",
      "~/Applications/miniconda3/envs/r10eds/lib/python3.7/site-packages/pandas/io/parsers.py in parser_f(filepath_or_buffer, sep, delimiter, header, names, index_col, usecols, squeeze, prefix, mangle_dupe_cols, dtype, engine, converters, true_values, false_values, skipinitialspace, skiprows, skipfooter, nrows, na_values, keep_default_na, na_filter, verbose, skip_blank_lines, parse_dates, infer_datetime_format, keep_date_col, date_parser, dayfirst, iterator, chunksize, compression, thousands, decimal, lineterminator, quotechar, quoting, doublequote, escapechar, comment, encoding, dialect, tupleize_cols, error_bad_lines, warn_bad_lines, delim_whitespace, low_memory, memory_map, float_precision)\n",
      "    700                     skip_blank_lines=skip_blank_lines)\n",
      "    701 \n",
      "--> 702         return _read(filepath_or_buffer, kwds)\n",
      "    703 \n",
      "    704     parser_f.__name__ = name\n",
      "\n",
      "~/Applications/miniconda3/envs/r10eds/lib/python3.7/site-packages/pandas/io/parsers.py in _read(filepath_or_buffer, kwds)\n",
      "    427 \n",
      "    428     # Create the parser.\n",
      "--> 429     parser = TextFileReader(filepath_or_buffer, **kwds)\n",
      "    430 \n",
      "    431     if chunksize or iterator:\n",
      "\n",
      "~/Applications/miniconda3/envs/r10eds/lib/python3.7/site-packages/pandas/io/parsers.py in __init__(self, f, engine, **kwds)\n",
      "    893             self.options['has_index_names'] = kwds['has_index_names']\n",
      "    894 \n",
      "--> 895         self._make_engine(self.engine)\n",
      "    896 \n",
      "    897     def close(self):\n",
      "\n",
      "~/Applications/miniconda3/envs/r10eds/lib/python3.7/site-packages/pandas/io/parsers.py in _make_engine(self, engine)\n",
      "   1120     def _make_engine(self, engine='c'):\n",
      "   1121         if engine == 'c':\n",
      "-> 1122             self._engine = CParserWrapper(self.f, **self.options)\n",
      "   1123         else:\n",
      "   1124             if engine == 'python':\n",
      "\n",
      "~/Applications/miniconda3/envs/r10eds/lib/python3.7/site-packages/pandas/io/parsers.py in __init__(self, src, **kwds)\n",
      "   1851         kwds['usecols'] = self.usecols\n",
      "   1852 \n",
      "-> 1853         self._reader = parsers.TextReader(src, **kwds)\n",
      "   1854         self.unnamed_cols = self._reader.unnamed_cols\n",
      "   1855 \n",
      "\n",
      "pandas/_libs/parsers.pyx in pandas._libs.parsers.TextReader.__cinit__()\n",
      "\n",
      "pandas/_libs/parsers.pyx in pandas._libs.parsers.TextReader._setup_parser_source()\n",
      "\n",
      "FileNotFoundError: [Errno 2] File b'data/flights/2019-01-flights-cleaned.csv' does not exist: b'data/flights/2019-01-flights-cleaned.csv'\n",
      "\n",
      "Traceback (most recent call last):\n",
      "  File \"/Users/ciyer/Applications/miniconda3/envs/r10eds/lib/python3.7/site-packages/click/core.py\", line 717, in main\n",
      "    rv = self.invoke(ctx)\n",
      "  File \"/Users/ciyer/Applications/miniconda3/envs/r10eds/lib/python3.7/site-packages/click/core.py\", line 1137, in invoke\n",
      "    return _process_result(sub_ctx.command.invoke(sub_ctx))\n",
      "  File \"/Users/ciyer/Applications/miniconda3/envs/r10eds/lib/python3.7/site-packages/click/core.py\", line 956, in invoke\n",
      "    return ctx.invoke(self.callback, **ctx.params)\n",
      "  File \"/Users/ciyer/Applications/miniconda3/envs/r10eds/lib/python3.7/site-packages/click/core.py\", line 555, in invoke\n",
      "    return callback(*args, **kwargs)\n",
      "  File \"/Users/ciyer/Applications/miniconda3/envs/r10eds/lib/python3.7/site-packages/renku/cli/_client.py\", line 80, in new_func\n",
      "    result = ctx.invoke(method, client, *args, **kwargs)\n",
      "  File \"/Users/ciyer/Applications/miniconda3/envs/r10eds/lib/python3.7/site-packages/click/core.py\", line 555, in invoke\n",
      "    return callback(*args, **kwargs)\n",
      "  File \"/Users/ciyer/Applications/miniconda3/envs/r10eds/lib/python3.7/site-packages/renku/cli/run.py\", line 200, in run\n",
      "    returncode, success_codes=success_codes\n",
      "renku.errors.InvalidSuccessCode: Command returned non-zero exit status 1.\n",
      "\n",
      "During handling of the above exception, another exception occurred:\n",
      "\n",
      "Traceback (most recent call last):\n",
      "  File \"/Users/ciyer/Applications/miniconda3/envs/r10eds/lib/python3.7/site-packages/urllib3/connection.py\", line 160, in _new_conn\n",
      "    (self._dns_host, self.port), self.timeout, **extra_kw)\n",
      "  File \"/Users/ciyer/Applications/miniconda3/envs/r10eds/lib/python3.7/site-packages/urllib3/util/connection.py\", line 57, in create_connection\n",
      "    for res in socket.getaddrinfo(host, port, family, socket.SOCK_STREAM):\n",
      "  File \"/Users/ciyer/Applications/miniconda3/envs/r10eds/lib/python3.7/socket.py\", line 748, in getaddrinfo\n",
      "    for res in _socket.getaddrinfo(host, port, family, type, proto, flags):\n",
      "socket.gaierror: [Errno 8] nodename nor servname provided, or not known\n",
      "\n",
      "During handling of the above exception, another exception occurred:\n",
      "\n",
      "Traceback (most recent call last):\n",
      "  File \"/Users/ciyer/Applications/miniconda3/envs/r10eds/lib/python3.7/site-packages/urllib3/connectionpool.py\", line 603, in urlopen\n",
      "    chunked=chunked)\n",
      "  File \"/Users/ciyer/Applications/miniconda3/envs/r10eds/lib/python3.7/site-packages/urllib3/connectionpool.py\", line 344, in _make_request\n",
      "    self._validate_conn(conn)\n",
      "  File \"/Users/ciyer/Applications/miniconda3/envs/r10eds/lib/python3.7/site-packages/urllib3/connectionpool.py\", line 843, in _validate_conn\n",
      "    conn.connect()\n",
      "  File \"/Users/ciyer/Applications/miniconda3/envs/r10eds/lib/python3.7/site-packages/urllib3/connection.py\", line 305, in connect\n",
      "    conn = self._new_conn()\n",
      "  File \"/Users/ciyer/Applications/miniconda3/envs/r10eds/lib/python3.7/site-packages/urllib3/connection.py\", line 169, in _new_conn\n",
      "    self, \"Failed to establish a new connection: %s\" % e)\n",
      "urllib3.exceptions.NewConnectionError: <urllib3.connection.VerifiedHTTPSConnection object at 0x1035acda0>: Failed to establish a new connection: [Errno 8] nodename nor servname provided, or not known\n",
      "\n",
      "During handling of the above exception, another exception occurred:\n",
      "\n",
      "Traceback (most recent call last):\n",
      "  File \"/Users/ciyer/Applications/miniconda3/envs/r10eds/lib/python3.7/site-packages/requests/adapters.py\", line 449, in send\n",
      "    timeout=timeout\n",
      "  File \"/Users/ciyer/Applications/miniconda3/envs/r10eds/lib/python3.7/site-packages/urllib3/connectionpool.py\", line 641, in urlopen\n",
      "    _stacktrace=sys.exc_info()[2])\n",
      "  File \"/Users/ciyer/Applications/miniconda3/envs/r10eds/lib/python3.7/site-packages/urllib3/util/retry.py\", line 399, in increment\n",
      "    raise MaxRetryError(_pool, url, error or ResponseError(cause))\n",
      "urllib3.exceptions.MaxRetryError: HTTPSConnectionPool(host='pypi.org', port=443): Max retries exceeded with url: /pypi/renku/json (Caused by NewConnectionError('<urllib3.connection.VerifiedHTTPSConnection object at 0x1035acda0>: Failed to establish a new connection: [Errno 8] nodename nor servname provided, or not known'))\n",
      "\n",
      "During handling of the above exception, another exception occurred:\n",
      "\n",
      "Traceback (most recent call last):\n",
      "  File \"/Users/ciyer/Applications/miniconda3/envs/r10eds/bin/renku\", line 10, in <module>\n",
      "    sys.exit(cli())\n",
      "  File \"/Users/ciyer/Applications/miniconda3/envs/r10eds/lib/python3.7/site-packages/click/core.py\", line 764, in __call__\n",
      "    return self.main(*args, **kwargs)\n",
      "  File \"/Users/ciyer/Applications/miniconda3/envs/r10eds/lib/python3.7/site-packages/renku/cli/_exc.py\", line 100, in main\n",
      "    result = super().main(*args, **kwargs)\n",
      "  File \"/Users/ciyer/Applications/miniconda3/envs/r10eds/lib/python3.7/site-packages/click/core.py\", line 727, in main\n",
      "    ctx.exit()\n",
      "  File \"/Users/ciyer/Applications/miniconda3/envs/r10eds/lib/python3.7/site-packages/click/core.py\", line 351, in __exit__\n",
      "    self.close()\n",
      "  File \"/Users/ciyer/Applications/miniconda3/envs/r10eds/lib/python3.7/site-packages/click/core.py\", line 440, in close\n",
      "    cb()\n",
      "  File \"/Users/ciyer/Applications/miniconda3/envs/r10eds/lib/python3.7/site-packages/renku/cli/_version.py\", line 142, in _check_version\n",
      "    'renku', allow_prereleases=allow_prereleases\n",
      "  File \"/Users/ciyer/Applications/miniconda3/envs/r10eds/lib/python3.7/site-packages/renku/cli/_version.py\", line 43, in find_latest_version\n",
      "    'https://pypi.org/pypi/{name}/json'.format(name=name)\n",
      "  File \"/Users/ciyer/Applications/miniconda3/envs/r10eds/lib/python3.7/site-packages/requests/api.py\", line 75, in get\n",
      "    return request('get', url, params=params, **kwargs)\n",
      "  File \"/Users/ciyer/Applications/miniconda3/envs/r10eds/lib/python3.7/site-packages/requests/api.py\", line 60, in request\n",
      "    return session.request(method=method, url=url, **kwargs)\n",
      "  File \"/Users/ciyer/Applications/miniconda3/envs/r10eds/lib/python3.7/site-packages/requests/sessions.py\", line 533, in request\n",
      "    resp = self.send(prep, **send_kwargs)\n",
      "  File \"/Users/ciyer/Applications/miniconda3/envs/r10eds/lib/python3.7/site-packages/requests/sessions.py\", line 646, in send\n",
      "    r = adapter.send(request, **kwargs)\n",
      "  File \"/Users/ciyer/Applications/miniconda3/envs/r10eds/lib/python3.7/site-packages/requests/adapters.py\", line 516, in send\n",
      "    raise ConnectionError(e, request=request)\n",
      "requests.exceptions.ConnectionError: HTTPSConnectionPool(host='pypi.org', port=443): Max retries exceeded with url: /pypi/renku/json (Caused by NewConnectionError('<urllib3.connection.VerifiedHTTPSConnection object at 0x1035acda0>: Failed to establish a new connection: [Errno 8] nodename nor servname provided, or not known'))\n"
     ]
    },
    {
     "ename": "CalledProcessError",
     "evalue": "Command 'b'renku run papermill \\\\\\n  -p input_path data/flights/2019-01-flights-cleaned.csv \\\\\\n  -p output_path data/output/2019-01-flights-delays.csv \\\\\\n  notebooks/01-ComputeDelay.ipynb \\\\\\n  notebooks/01-ComputeDelay.ran.ipynb\\n'' returned non-zero exit status 1.",
     "output_type": "error",
     "traceback": [
      "\u001b[0;31m---------------------------------------------------------------------------\u001b[0m",
      "\u001b[0;31mCalledProcessError\u001b[0m                        Traceback (most recent call last)",
      "\u001b[0;32m<ipython-input-17-62cd083ba1a6>\u001b[0m in \u001b[0;36m<module>\u001b[0;34m\u001b[0m\n\u001b[0;32m----> 1\u001b[0;31m \u001b[0mget_ipython\u001b[0m\u001b[0;34m(\u001b[0m\u001b[0;34m)\u001b[0m\u001b[0;34m.\u001b[0m\u001b[0mrun_cell_magic\u001b[0m\u001b[0;34m(\u001b[0m\u001b[0;34m'bash'\u001b[0m\u001b[0;34m,\u001b[0m \u001b[0;34m''\u001b[0m\u001b[0;34m,\u001b[0m \u001b[0;34m'renku run papermill \\\\\\n  -p input_path data/flights/2019-01-flights-cleaned.csv \\\\\\n  -p output_path data/output/2019-01-flights-delays.csv \\\\\\n  notebooks/01-ComputeDelay.ipynb \\\\\\n  notebooks/01-ComputeDelay.ran.ipynb\\n'\u001b[0m\u001b[0;34m)\u001b[0m\u001b[0;34m\u001b[0m\u001b[0;34m\u001b[0m\u001b[0m\n\u001b[0m",
      "\u001b[0;32m~/Applications/miniconda3/envs/r10eds/lib/python3.7/site-packages/IPython/core/interactiveshell.py\u001b[0m in \u001b[0;36mrun_cell_magic\u001b[0;34m(self, magic_name, line, cell)\u001b[0m\n\u001b[1;32m   2350\u001b[0m             \u001b[0;32mwith\u001b[0m \u001b[0mself\u001b[0m\u001b[0;34m.\u001b[0m\u001b[0mbuiltin_trap\u001b[0m\u001b[0;34m:\u001b[0m\u001b[0;34m\u001b[0m\u001b[0;34m\u001b[0m\u001b[0m\n\u001b[1;32m   2351\u001b[0m                 \u001b[0margs\u001b[0m \u001b[0;34m=\u001b[0m \u001b[0;34m(\u001b[0m\u001b[0mmagic_arg_s\u001b[0m\u001b[0;34m,\u001b[0m \u001b[0mcell\u001b[0m\u001b[0;34m)\u001b[0m\u001b[0;34m\u001b[0m\u001b[0;34m\u001b[0m\u001b[0m\n\u001b[0;32m-> 2352\u001b[0;31m                 \u001b[0mresult\u001b[0m \u001b[0;34m=\u001b[0m \u001b[0mfn\u001b[0m\u001b[0;34m(\u001b[0m\u001b[0;34m*\u001b[0m\u001b[0margs\u001b[0m\u001b[0;34m,\u001b[0m \u001b[0;34m**\u001b[0m\u001b[0mkwargs\u001b[0m\u001b[0;34m)\u001b[0m\u001b[0;34m\u001b[0m\u001b[0;34m\u001b[0m\u001b[0m\n\u001b[0m\u001b[1;32m   2353\u001b[0m             \u001b[0;32mreturn\u001b[0m \u001b[0mresult\u001b[0m\u001b[0;34m\u001b[0m\u001b[0;34m\u001b[0m\u001b[0m\n\u001b[1;32m   2354\u001b[0m \u001b[0;34m\u001b[0m\u001b[0m\n",
      "\u001b[0;32m~/Applications/miniconda3/envs/r10eds/lib/python3.7/site-packages/IPython/core/magics/script.py\u001b[0m in \u001b[0;36mnamed_script_magic\u001b[0;34m(line, cell)\u001b[0m\n\u001b[1;32m    140\u001b[0m             \u001b[0;32melse\u001b[0m\u001b[0;34m:\u001b[0m\u001b[0;34m\u001b[0m\u001b[0;34m\u001b[0m\u001b[0m\n\u001b[1;32m    141\u001b[0m                 \u001b[0mline\u001b[0m \u001b[0;34m=\u001b[0m \u001b[0mscript\u001b[0m\u001b[0;34m\u001b[0m\u001b[0;34m\u001b[0m\u001b[0m\n\u001b[0;32m--> 142\u001b[0;31m             \u001b[0;32mreturn\u001b[0m \u001b[0mself\u001b[0m\u001b[0;34m.\u001b[0m\u001b[0mshebang\u001b[0m\u001b[0;34m(\u001b[0m\u001b[0mline\u001b[0m\u001b[0;34m,\u001b[0m \u001b[0mcell\u001b[0m\u001b[0;34m)\u001b[0m\u001b[0;34m\u001b[0m\u001b[0;34m\u001b[0m\u001b[0m\n\u001b[0m\u001b[1;32m    143\u001b[0m \u001b[0;34m\u001b[0m\u001b[0m\n\u001b[1;32m    144\u001b[0m         \u001b[0;31m# write a basic docstring:\u001b[0m\u001b[0;34m\u001b[0m\u001b[0;34m\u001b[0m\u001b[0;34m\u001b[0m\u001b[0m\n",
      "\u001b[0;32m</Users/ciyer/Applications/miniconda3/envs/r10eds/lib/python3.7/site-packages/decorator.py:decorator-gen-110>\u001b[0m in \u001b[0;36mshebang\u001b[0;34m(self, line, cell)\u001b[0m\n",
      "\u001b[0;32m~/Applications/miniconda3/envs/r10eds/lib/python3.7/site-packages/IPython/core/magic.py\u001b[0m in \u001b[0;36m<lambda>\u001b[0;34m(f, *a, **k)\u001b[0m\n\u001b[1;32m    185\u001b[0m     \u001b[0;31m# but it's overkill for just that one bit of state.\u001b[0m\u001b[0;34m\u001b[0m\u001b[0;34m\u001b[0m\u001b[0;34m\u001b[0m\u001b[0m\n\u001b[1;32m    186\u001b[0m     \u001b[0;32mdef\u001b[0m \u001b[0mmagic_deco\u001b[0m\u001b[0;34m(\u001b[0m\u001b[0marg\u001b[0m\u001b[0;34m)\u001b[0m\u001b[0;34m:\u001b[0m\u001b[0;34m\u001b[0m\u001b[0;34m\u001b[0m\u001b[0m\n\u001b[0;32m--> 187\u001b[0;31m         \u001b[0mcall\u001b[0m \u001b[0;34m=\u001b[0m \u001b[0;32mlambda\u001b[0m \u001b[0mf\u001b[0m\u001b[0;34m,\u001b[0m \u001b[0;34m*\u001b[0m\u001b[0ma\u001b[0m\u001b[0;34m,\u001b[0m \u001b[0;34m**\u001b[0m\u001b[0mk\u001b[0m\u001b[0;34m:\u001b[0m \u001b[0mf\u001b[0m\u001b[0;34m(\u001b[0m\u001b[0;34m*\u001b[0m\u001b[0ma\u001b[0m\u001b[0;34m,\u001b[0m \u001b[0;34m**\u001b[0m\u001b[0mk\u001b[0m\u001b[0;34m)\u001b[0m\u001b[0;34m\u001b[0m\u001b[0;34m\u001b[0m\u001b[0m\n\u001b[0m\u001b[1;32m    188\u001b[0m \u001b[0;34m\u001b[0m\u001b[0m\n\u001b[1;32m    189\u001b[0m         \u001b[0;32mif\u001b[0m \u001b[0mcallable\u001b[0m\u001b[0;34m(\u001b[0m\u001b[0marg\u001b[0m\u001b[0;34m)\u001b[0m\u001b[0;34m:\u001b[0m\u001b[0;34m\u001b[0m\u001b[0;34m\u001b[0m\u001b[0m\n",
      "\u001b[0;32m~/Applications/miniconda3/envs/r10eds/lib/python3.7/site-packages/IPython/core/magics/script.py\u001b[0m in \u001b[0;36mshebang\u001b[0;34m(self, line, cell)\u001b[0m\n\u001b[1;32m    243\u001b[0m             \u001b[0msys\u001b[0m\u001b[0;34m.\u001b[0m\u001b[0mstderr\u001b[0m\u001b[0;34m.\u001b[0m\u001b[0mflush\u001b[0m\u001b[0;34m(\u001b[0m\u001b[0;34m)\u001b[0m\u001b[0;34m\u001b[0m\u001b[0;34m\u001b[0m\u001b[0m\n\u001b[1;32m    244\u001b[0m         \u001b[0;32mif\u001b[0m \u001b[0margs\u001b[0m\u001b[0;34m.\u001b[0m\u001b[0mraise_error\u001b[0m \u001b[0;32mand\u001b[0m \u001b[0mp\u001b[0m\u001b[0;34m.\u001b[0m\u001b[0mreturncode\u001b[0m\u001b[0;34m!=\u001b[0m\u001b[0;36m0\u001b[0m\u001b[0;34m:\u001b[0m\u001b[0;34m\u001b[0m\u001b[0;34m\u001b[0m\u001b[0m\n\u001b[0;32m--> 245\u001b[0;31m             \u001b[0;32mraise\u001b[0m \u001b[0mCalledProcessError\u001b[0m\u001b[0;34m(\u001b[0m\u001b[0mp\u001b[0m\u001b[0;34m.\u001b[0m\u001b[0mreturncode\u001b[0m\u001b[0;34m,\u001b[0m \u001b[0mcell\u001b[0m\u001b[0;34m,\u001b[0m \u001b[0moutput\u001b[0m\u001b[0;34m=\u001b[0m\u001b[0mout\u001b[0m\u001b[0;34m,\u001b[0m \u001b[0mstderr\u001b[0m\u001b[0;34m=\u001b[0m\u001b[0merr\u001b[0m\u001b[0;34m)\u001b[0m\u001b[0;34m\u001b[0m\u001b[0;34m\u001b[0m\u001b[0m\n\u001b[0m\u001b[1;32m    246\u001b[0m \u001b[0;34m\u001b[0m\u001b[0m\n\u001b[1;32m    247\u001b[0m     \u001b[0;32mdef\u001b[0m \u001b[0m_run_script\u001b[0m\u001b[0;34m(\u001b[0m\u001b[0mself\u001b[0m\u001b[0;34m,\u001b[0m \u001b[0mp\u001b[0m\u001b[0;34m,\u001b[0m \u001b[0mcell\u001b[0m\u001b[0;34m,\u001b[0m \u001b[0mto_close\u001b[0m\u001b[0;34m)\u001b[0m\u001b[0;34m:\u001b[0m\u001b[0;34m\u001b[0m\u001b[0;34m\u001b[0m\u001b[0m\n",
      "\u001b[0;31mCalledProcessError\u001b[0m: Command 'b'renku run papermill \\\\\\n  -p input_path data/flights/2019-01-flights-cleaned.csv \\\\\\n  -p output_path data/output/2019-01-flights-delays.csv \\\\\\n  notebooks/01-ComputeDelay.ipynb \\\\\\n  notebooks/01-ComputeDelay.ran.ipynb\\n'' returned non-zero exit status 1."
     ]
    }
   ],
   "source": [
    "%%bash\n",
    "renku run papermill \\\n",
    "  -p input_path data/output/2019-01-flights-cleaned.csv \\\n",
    "  -p output_path data/output/2019-01-flights-delays.csv \\\n",
    "  notebooks/01-ComputeDelay.ipynb \\\n",
    "  notebooks/01-ComputeDelay.ran.ipynb"
   ]
  },
  {
   "cell_type": "markdown",
   "metadata": {},
   "source": [
    "## Inspect data\n",
    "\n",
    "In the data we have **flight date**, **scheduled arrival time** and **actual arrival time**. To compute delay, we need to take the difference between actual arrival time and scheduled arrival time. To complicate matters, the arrival times are not stored as time, but as integer in the format 'HHMM'."
   ]
  },
  {
   "cell_type": "markdown",
   "metadata": {},
   "source": [
    "### Run through the notebook\n",
    "Open [01-Preprocess.ipynb](renku-tutorial-flights/notebooks/01-Preprocess.ipynb) and run through the '01-Preprocess.ipynb' notebook. When done, return to this notebook to continue."
   ]
  },
  {
   "cell_type": "markdown",
   "metadata": {},
   "source": [
    "## Preprocess data\n",
    "\n",
    "The data looks good. We want to save the output as a file. We could just save the file in the notebook, but then we have not recorded what input and processing were used to produce an output.\n",
    "\n",
    "Instead, we can use the tool **papermill** which runs Jupyter notebooks in a reproducible way. To do this, we need to convert the notebook into one that is papermill compatible and then run it with papermill."
   ]
  },
  {
   "cell_type": "markdown",
   "metadata": {},
   "source": [
    "### Modify the notebook to use papermill\n",
    "\n",
    "Converting the notebook to be papermill compatible is done by creating a cell that initializes all the values we want to use as parameters and converting the code to use these parameters. The cell needs to be tagged as a parameters cell. This is done by editing the cell metadata and adding the following:\n",
    "```\n",
    "{\n",
    "    \"tags\": [\n",
    "        \"parameters\"\n",
    "    ]\n",
    "}\n",
    "```"
   ]
  },
  {
   "cell_type": "code",
   "execution_count": null,
   "metadata": {},
   "outputs": [],
   "source": [
    "# Update the notebook to a version with parameters\n",
    "%cp ../templates/01-Preprocess-01-papermill.ipynb ./notebooks/01-Preprocess.ipynb "
   ]
  },
  {
   "cell_type": "markdown",
   "metadata": {},
   "source": [
    "### Resolve the dirty repository state\n",
    "\n",
    "Renku uses information from git to determine the output of a program. For this to work, the working directory needs to be clean (without modifications)."
   ]
  },
  {
   "cell_type": "code",
   "execution_count": null,
   "metadata": {},
   "outputs": [],
   "source": [
    "!git status"
   ]
  },
  {
   "cell_type": "markdown",
   "metadata": {},
   "source": [
    "We added a notebook. Let us put it into git and make a commit. *Remember to make a useful commit message!*"
   ]
  },
  {
   "cell_type": "code",
   "execution_count": null,
   "metadata": {},
   "outputs": [],
   "source": [
    "!git add notebooks\n",
    "!git commit -m\"Initial data inspection and processing\""
   ]
  },
  {
   "cell_type": "code",
   "execution_count": null,
   "metadata": {},
   "outputs": [],
   "source": [
    "!git status"
   ]
  },
  {
   "cell_type": "markdown",
   "metadata": {},
   "source": [
    "Now we can run the notebook with papermill"
   ]
  },
  {
   "cell_type": "markdown",
   "metadata": {},
   "source": [
    "## Reproducible notebook run"
   ]
  },
  {
   "cell_type": "code",
   "execution_count": null,
   "metadata": {},
   "outputs": [],
   "source": [
    "%%bash\n",
    "mkdir -p data/output\n",
    "renku run papermill \\\n",
    "  -p input_path data/flights/2019-01-flights.csv.zip \\\n",
    "  -p output_path data/output/2019-01-flights-preprocessed.csv \\\n",
    "  notebooks/01-Preprocess.ipynb \\\n",
    "  notebooks/01-Preprocess.ran.ipynb"
   ]
  },
  {
   "cell_type": "markdown",
   "metadata": {},
   "source": [
    "Let's take a look at how things look from the renku perspective."
   ]
  },
  {
   "cell_type": "code",
   "execution_count": null,
   "metadata": {},
   "outputs": [],
   "source": [
    "!git status"
   ]
  },
  {
   "cell_type": "code",
   "execution_count": null,
   "metadata": {},
   "outputs": [],
   "source": [
    "!renku status"
   ]
  },
  {
   "cell_type": "markdown",
   "metadata": {},
   "source": [
    "If you have dot available, you can visualize the graph"
   ]
  },
  {
   "cell_type": "code",
   "execution_count": null,
   "metadata": {},
   "outputs": [],
   "source": [
    "# graph = !renku log --format dot | dot -Tsvg\n",
    "# SVG(\"\\n\".join(graph))"
   ]
  },
  {
   "cell_type": "markdown",
   "metadata": {},
   "source": [
    "# Verify preprocessing\n",
    "\n",
    "<table class=\"table table-striped\" style=\"font-size: 18px; margin: 10px;\">\n",
    "    <thead>\n",
    "        <tr>\n",
    "            <td>Renku</td>\n",
    "            <td>Pandas</td>\n",
    "        </tr>\n",
    "    <thead>\n",
    "    <tbody>\n",
    "        <tr>\n",
    "            <td>Create repository &#10004;</td>\n",
    "            <td></td>\n",
    "        </tr>\n",
    "        <tr>\n",
    "            <td>Declare environment &#10004;</td>\n",
    "            <td></td>\n",
    "        </tr>\n",
    "        <tr>\n",
    "            <td>Import data &#10004;</td>\n",
    "            <td></td>\n",
    "        </tr>\n",
    "        <tr>\n",
    "            <td></td>\n",
    "            <td>Inspect and preprocess data &#10004;</td>\n",
    "        </tr>\n",
    "        <tr>\n",
    "            <td></td>\n",
    "            <td style=\"font-weight: bold\">Verify preprocessing</td>\n",
    "        </tr>        \n",
    "     </tbody>\n",
    "</table>\n",
    "\n",
    "Let us examine the preprocessed data to make sure we interpreted the original data correctly.\n",
    "\n",
    "To do this, we use another notebook. This notebook takes the preprocessed data and visualizes it so we can see if it conforms to our expectations regarding how it should look."
   ]
  },
  {
   "cell_type": "code",
   "execution_count": null,
   "metadata": {},
   "outputs": [],
   "source": [
    "%cp ../templates/02-Inspection-00.ipynb ./notebooks/02-Inspection.ipynb "
   ]
  },
  {
   "cell_type": "markdown",
   "metadata": {},
   "source": [
    "## Inspect preprocessed data\n",
    "\n",
    "Run through the [02-Inspection.ipynb](./renku-tutorial-flights/notebooks/02-Inspection.ipynb) notebook. and then come back here."
   ]
  },
  {
   "cell_type": "markdown",
   "metadata": {},
   "source": [
    "### Modify the notebook to use papermill (again)\n",
    "\n",
    "The 02-Inspection.ipynb notebook was already written with papermill in mind. The one parameter is already declared in its own cell. To make the notebook  papermill compatible all that needs to be done is to tag the parameters cell. This is done by editing the cell metadata and adding the following:"
   ]
  },
  {
   "cell_type": "markdown",
   "metadata": {},
   "source": [
    "## **Exercise 1**\n",
    "\n",
    "Make the 02-Inspection.ipynb work with papermill."
   ]
  },
  {
   "cell_type": "code",
   "execution_count": null,
   "metadata": {},
   "outputs": [],
   "source": [
    "# Ex. 1 Solution\n",
    "# Update the notebook to a version with parameters\n",
    "# %cp ../templates/02-Inspection-01-papermill.ipynb ./notebooks/02-Inspection.ipynb "
   ]
  },
  {
   "cell_type": "markdown",
   "metadata": {},
   "source": [
    "### Resolve the dirty repository state\n",
    "\n",
    "Again, we need to ensure the working directory is clean."
   ]
  },
  {
   "cell_type": "code",
   "execution_count": null,
   "metadata": {},
   "outputs": [],
   "source": [
    "!git status"
   ]
  },
  {
   "cell_type": "markdown",
   "metadata": {},
   "source": [
    "We added a notebook. Let us put it into git and make a commit."
   ]
  },
  {
   "cell_type": "code",
   "execution_count": null,
   "metadata": {},
   "outputs": [],
   "source": [
    "!git add notebooks/02-Inspection.ipynb\n",
    "!git commit -m\"Inspecting the results of preprocessing.\""
   ]
  },
  {
   "cell_type": "markdown",
   "metadata": {},
   "source": [
    "Now we can run the notebook with papermill"
   ]
  },
  {
   "cell_type": "code",
   "execution_count": null,
   "metadata": {},
   "outputs": [],
   "source": [
    "%%bash\n",
    "renku run papermill \\\n",
    "  -p input_path data/output/2019-01-flights-preprocessed.csv \\\n",
    "  -p output_path data/output/2019-01-flights-delay-fivenums.csv \\\n",
    "  notebooks/02-Inspection.ipynb \\\n",
    "  notebooks/02-Inspection.ran.ipynb"
   ]
  },
  {
   "cell_type": "markdown",
   "metadata": {},
   "source": [
    "<div style=\"color: #004085; background-color: #cce5ff; border-color: #b8daff; padding: .75rem 1.25rem; margin-bottom: 1rem; border: 1px solid transparent; border-radius: .25rem; font-size: larger;\">\n",
    "Now we have a workflow in Renku!\n",
    "</div>\n",
    "\n"
   ]
  },
  {
   "cell_type": "markdown",
   "metadata": {},
   "source": [
    "If you have dot available, you can view the graph visually"
   ]
  },
  {
   "cell_type": "code",
   "execution_count": null,
   "metadata": {},
   "outputs": [],
   "source": [
    "# graph = !renku log --format dot | dot -Tsvg -Gsize=12,10\n",
    "# SVG(\"\\n\".join(graph))"
   ]
  },
  {
   "cell_type": "markdown",
   "metadata": {},
   "source": [
    "If we want to see what we have done so far, we can just look at the git log."
   ]
  },
  {
   "cell_type": "code",
   "execution_count": null,
   "metadata": {},
   "outputs": [],
   "source": [
    "!git log --graph --oneline"
   ]
  },
  {
   "cell_type": "code",
   "execution_count": null,
   "metadata": {},
   "outputs": [],
   "source": []
  }
 ],
 "metadata": {
  "kernelspec": {
   "display_name": "Python 3",
   "language": "python",
   "name": "python3"
  },
  "language_info": {
   "codemirror_mode": {
    "name": "ipython",
    "version": 3
   },
   "file_extension": ".py",
   "mimetype": "text/x-python",
   "name": "python",
   "nbconvert_exporter": "python",
   "pygments_lexer": "ipython3",
   "version": "3.7.3"
  }
 },
 "nbformat": 4,
 "nbformat_minor": 2
}
